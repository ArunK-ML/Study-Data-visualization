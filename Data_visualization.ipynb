{
  "nbformat": 4,
  "nbformat_minor": 0,
  "metadata": {
    "colab": {
      "provenance": [],
      "authorship_tag": "ABX9TyM0D7VQTXYuvng9zbEPYl0L",
      "include_colab_link": true
    },
    "kernelspec": {
      "name": "python3",
      "display_name": "Python 3"
    },
    "language_info": {
      "name": "python"
    }
  },
  "cells": [
    {
      "cell_type": "markdown",
      "metadata": {
        "id": "view-in-github",
        "colab_type": "text"
      },
      "source": [
        "<a href=\"https://colab.research.google.com/github/ArunK-ML/Study-Data-visualization/blob/main/Data_visualization.ipynb\" target=\"_parent\"><img src=\"https://colab.research.google.com/assets/colab-badge.svg\" alt=\"Open In Colab\"/></a>"
      ]
    },
    {
      "cell_type": "code",
      "execution_count": 1,
      "metadata": {
        "id": "0u8EoXbsDTMt"
      },
      "outputs": [],
      "source": [
        "import numpy as np"
      ]
    },
    {
      "cell_type": "code",
      "source": [
        "a = np.random.randint(0,100,150)\n",
        "b = np.random.randint(0,100,150)\n",
        "print(a)\n",
        "print(b)"
      ],
      "metadata": {
        "colab": {
          "base_uri": "https://localhost:8080/"
        },
        "id": "m_9NIO3VDeMv",
        "outputId": "32db0f82-c230-4f6b-ab87-b622140fad75"
      },
      "execution_count": 2,
      "outputs": [
        {
          "output_type": "stream",
          "name": "stdout",
          "text": [
            "[26 70  6  5 66 91 14 73 95 76  3 83 90  2 33 62 73 72 48 74 47 72  6  3\n",
            " 16 80 69 43  2 57  3 40 50 82  8 82 58 98 61 22 12 24 58 89 16 86 86 73\n",
            " 74 64 52 74  6  9 64 41  9  0 18 67 77 90 18 25  4 69 17 63 26 38 65 70\n",
            " 64 65 97 90 17 86 43 53 21 38 10 21  4 92 40 69 69 65 73 78 64  2 37 69\n",
            " 58 56 63 56 63 81 27 31 52 73 62 71 41 40 81 72 38 46 89 86 78  5 69 50\n",
            " 51 49 83  7 62 89 88 79 57 55 82 13 46 92 17  3 92 49 99 19 65 47 88 13\n",
            " 36 81 88 96 53 26]\n",
            "[94 93  9 64 41 40 73  3 55 49 87 82 63 47 14  9  0 79 48 31 79 21 20 95\n",
            " 29 81 60 53 43 15 24 59 15 59 17 73 70  8 32 97 60 99 67 62 57 71 53 96\n",
            " 26 42 16 34 77 91 94 62 15 46 30 73 12 56 83 43 62 46 70 32 70 92 19 70\n",
            " 18  2 68 80 37 20 15 30 87 44 48 37 41  8 89 90  1 46 96 86 89 71 30 94\n",
            "  2 62  8 65 66 31 27 52 26 42 70 27 53 48 84 81 96 34 27  1 81 73 11 18\n",
            " 97  8 66 97 17 22 74  4  0 99 76 86 89 10 17 57 62 37 64 49 64 26 99 23\n",
            " 70  1 46 37 72 82]\n"
          ]
        }
      ]
    },
    {
      "cell_type": "code",
      "source": [],
      "metadata": {
        "id": "d01DUZJEDf9j"
      },
      "execution_count": null,
      "outputs": []
    }
  ]
}